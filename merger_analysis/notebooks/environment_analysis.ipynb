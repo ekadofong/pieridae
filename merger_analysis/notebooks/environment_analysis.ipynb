{
 "cells": [
  {
   "cell_type": "markdown",
   "metadata": {},
   "source": [
    "# Galaxy Environment Analysis\n",
    "\n",
    "Analyze merger fraction as a function of galaxy environment (satellite/central/isolated).\n",
    "\n",
    "This notebook:\n",
    "1. Loads merger classification results from BYOL+PCA\n",
    "2. Classifies galaxies by environment using massive neighbor distances\n",
    "3. Computes merger fractions in different environments\n",
    "4. Analyzes merger-SFR relation by environment"
   ]
  },
  {
   "cell_type": "markdown",
   "metadata": {},
   "source": [
    "## Setup"
   ]
  },
  {
   "cell_type": "code",
   "execution_count": null,
   "metadata": {},
   "outputs": [],
   "source": [
    "%load_ext autoreload\n",
    "%autoreload 2\n",
    "\n",
    "import sys\n",
    "from pathlib import Path\n",
    "\n",
    "sys.path.insert(0, str(Path.cwd().parents[1]))\n",
    "\n",
    "import numpy as np\n",
    "import pandas as pd\n",
    "import matplotlib.pyplot as plt\n",
    "import pickle\n",
    "from tqdm import tqdm\n",
    "\n",
    "from astropy import coordinates, units as u, cosmology\n",
    "from ekfstats import galstats\n",
    "from ekfplot import plot as ek\n",
    "from pieridae.starbursts import sample\n",
    "\n",
    "cosmo = cosmology.FlatLambdaCDM(70., 0.3)\n",
    "\n",
    "print(\"✅ Imports complete\")"
   ]
  },
  {
   "cell_type": "markdown",
   "metadata": {},
   "source": [
    "## Load Data"
   ]
  },
  {
   "cell_type": "code",
   "execution_count": null,
   "metadata": {},
   "outputs": [],
   "source": [
    "# Load base catalog\n",
    "print(\"Loading base catalog...\")\n",
    "catalog_file = Path('../../local_data/base_catalogs/mdr1_n708maglt26_and_pzgteq0p1.parquet')\n",
    "base_catalog, masks = sample.load_sample(str(catalog_file))\n",
    "catalog = base_catalog.loc[masks['is_good'][0]]\n",
    "\n",
    "print(f\"✅ Loaded {len(catalog)} galaxies\")"
   ]
  },
  {
   "cell_type": "code",
   "execution_count": null,
   "metadata": {},
   "outputs": [],
   "source": [
    "# Load merger analysis results\n",
    "print(\"Loading merger analysis results...\")\n",
    "results_file = Path('../../local_data/byol_results/merger_analysis/merger_analysis_results.pkl')\n",
    "\n",
    "if results_file.exists():\n",
    "    with open(results_file, 'rb') as f:\n",
    "        results = pickle.load(f)\n",
    "    \n",
    "    img_names = results['img_names']\n",
    "    prob_labels = results['prob_labels']\n",
    "    is_fragmented = results['is_fragmented']\n",
    "    \n",
    "    # Reindex catalog to match analysis\n",
    "    catalog = catalog.reindex(img_names[~is_fragmented])\n",
    "    \n",
    "    # Add merger probabilities\n",
    "    catalog['p_merger'] = np.where(\n",
    "        (prob_labels[~is_fragmented] == 0).all(axis=1),\n",
    "        np.nan,\n",
    "        prob_labels[~is_fragmented, 3]\n",
    "    )\n",
    "    catalog['p_ambig'] = np.where(\n",
    "        (prob_labels[~is_fragmented] == 0).all(axis=1),\n",
    "        np.nan,\n",
    "        prob_labels[~is_fragmented, 2]\n",
    "    )\n",
    "    catalog['p_undisturbed'] = np.where(\n",
    "        (prob_labels[~is_fragmented] == 0).all(axis=1),\n",
    "        np.nan,\n",
    "        prob_labels[~is_fragmented, 1]\n",
    "    )\n",
    "    \n",
    "    print(f\"✅ Loaded merger probabilities for {len(catalog)} galaxies\")\n",
    "else:\n",
    "    print(f\"⚠️  Results file not found: {results_file}\")\n",
    "    print(\"   Run merger_classification.ipynb first\")"
   ]
  },
  {
   "cell_type": "markdown",
   "metadata": {},
   "source": [
    "## Classify Galaxy Environments"
   ]
  },
  {
   "cell_type": "code",
   "execution_count": null,
   "metadata": {},
   "outputs": [],
   "source": [
    "# Identify massive galaxies (potential hosts)\n",
    "massive_galaxies = base_catalog.query('logmass_adjusted > 10.')\n",
    "\n",
    "print(f\"Found {len(massive_galaxies)} massive galaxies (M* > 10^10 Msun)\")"
   ]
  },
  {
   "cell_type": "code",
   "execution_count": null,
   "metadata": {},
   "outputs": [],
   "source": [
    "# Monte Carlo over photometric redshift uncertainties\n",
    "nmc = 100\n",
    "p_environment = np.zeros([nmc, len(catalog), 3])  # satellite, central, isolated\n",
    "\n",
    "print(f\"Running {nmc} Monte Carlo iterations for environment classification...\")\n",
    "\n",
    "for iteration in tqdm(range(nmc)):\n",
    "    # Sample redshifts\n",
    "    catalog_z = catalog.copy()\n",
    "    massive_z = massive_galaxies.copy()\n",
    "    \n",
    "    catalog_z['z'] = np.where(\n",
    "        np.isnan(catalog_z['z_spec']),\n",
    "        np.random.uniform(0.06, 0.1, len(catalog_z)),\n",
    "        catalog_z['z_spec']\n",
    "    )\n",
    "    \n",
    "    massive_z['z'] = np.where(\n",
    "        np.isnan(massive_z['z_spec']),\n",
    "        np.random.uniform(0.06, 0.1, len(massive_z)),\n",
    "        massive_z['z_spec']\n",
    "    )\n",
    "    \n",
    "    # Classify environments\n",
    "    envdict = galstats.classify_environment_fast(\n",
    "        catalog_z,\n",
    "        massive_z,\n",
    "        return_separations=False,\n",
    "        verbose=0\n",
    "    )\n",
    "    \n",
    "    p_environment[iteration, :, 0] = envdict['satellite']\n",
    "    p_environment[iteration, :, 1] = envdict['central']\n",
    "    p_environment[iteration, :, 2] = envdict['isolated']\n",
    "\n",
    "print(\"✅ Environment classification complete\")"
   ]
  },
  {
   "cell_type": "markdown",
   "metadata": {},
   "source": [
    "## Merger Fraction by Environment"
   ]
  },
  {
   "cell_type": "code",
   "execution_count": null,
   "metadata": {},
   "outputs": [],
   "source": [
    "# Compute average merger probability in each environment\n",
    "pmerger = catalog['p_merger'] + catalog['p_ambig']\n",
    "\n",
    "pm_avg = np.array([\n",
    "    np.nansum(pmerger.values * p_environment[:, :, ix], axis=1) / \n",
    "    np.nansum(np.isfinite(pmerger.values) * p_environment[:, :, ix], axis=1)\n",
    "    for ix in range(3)\n",
    "])\n",
    "\n",
    "env_labels = ['Satellite', 'Central', 'Isolated']\n",
    "\n",
    "print(\"📊 Merger probability by environment:\")\n",
    "for idx, label in enumerate(env_labels):\n",
    "    median = np.median(pm_avg[idx])\n",
    "    lower = np.quantile(pm_avg[idx], 0.16)\n",
    "    upper = np.quantile(pm_avg[idx], 0.84)\n",
    "    print(f\"   {label:12s}: {median:.4f} +{upper-median:.4f} -{median-lower:.4f}\")"
   ]
  },
  {
   "cell_type": "code",
   "execution_count": null,
   "metadata": {},
   "outputs": [],
   "source": [
    "# Plot merger probability by environment\n",
    "fig, ax = plt.subplots(1, 1, figsize=(8, 6))\n",
    "\n",
    "ek.errorbar(\n",
    "    np.arange(3),\n",
    "    np.median(pm_avg, axis=1),\n",
    "    ylow=np.quantile(pm_avg, 0.16, axis=1),\n",
    "    yhigh=np.quantile(pm_avg, 0.84, axis=1),\n",
    "    ax=ax,\n",
    "    capsize=5,\n",
    "    marker='o',\n",
    "    markersize=10,\n",
    "    lw=2\n",
    ")\n",
    "\n",
    "ax.set_xticks([0, 1, 2])\n",
    "ax.set_xticklabels(env_labels)\n",
    "ax.set_ylabel('Average P(merger)')\n",
    "ax.set_xlabel('Environment')\n",
    "ax.set_title('Merger Probability vs Galaxy Environment')\n",
    "ax.grid(True, alpha=0.3)\n",
    "\n",
    "plt.tight_layout()\n",
    "plt.show()"
   ]
  },
  {
   "cell_type": "markdown",
   "metadata": {},
   "source": [
    "## Distance to Nearest Massive Neighbor"
   ]
  },
  {
   "cell_type": "code",
   "execution_count": null,
   "metadata": {},
   "outputs": [],
   "source": [
    "# Analyze distance to Nth nearest massive galaxy\n",
    "mcoords = coordinates.SkyCoord(massive_galaxies['RA'], massive_galaxies['DEC'], unit='deg')\n",
    "tcoords = coordinates.SkyCoord(catalog['RA'], catalog['DEC'], unit='deg')\n",
    "\n",
    "factor = cosmo.kpc_proper_per_arcmin(0.08)\n",
    "\n",
    "neighbor_values = [1, 2, 5]\n",
    "n_neighbors = len(neighbor_values)\n",
    "\n",
    "fig, axarr = plt.subplots(n_neighbors, 1, figsize=(10, 3 * n_neighbors), sharex=True)\n",
    "\n",
    "for i, nth in enumerate(neighbor_values):\n",
    "    # Match to Nth nearest neighbor\n",
    "    match_idx, d2d, _ = tcoords.match_to_catalog_sky(mcoords, nthneighbor=nth)\n",
    "    distances_kpc = d2d.to('arcmin').value * factor.value\n",
    "    \n",
    "    # Histogram kwargs\n",
    "    hkwargs = {\n",
    "        'alpha': 0.3,\n",
    "        'lw': 3,\n",
    "        'bins': np.arange(20, 5000, 100),\n",
    "        'density': True,\n",
    "        'ax': axarr[i]\n",
    "    }\n",
    "    \n",
    "    # Plot unweighted\n",
    "    ek.hist(distances_kpc, color='grey', label='All', **hkwargs)\n",
    "    \n",
    "    # Plot merger-weighted\n",
    "    ek.hist(\n",
    "        distances_kpc,\n",
    "        color='tab:red',\n",
    "        weights=pmerger,\n",
    "        label='P(merger)-weighted',\n",
    "        **hkwargs\n",
    "    )\n",
    "    \n",
    "    axarr[i].set_ylabel('Density')\n",
    "    axarr[i].legend()\n",
    "    ek.text(0.975, 0.975, f'Nth neighbor: {nth}\\n(N={len(distances_kpc)})', ax=axarr[i])\n",
    "\n",
    "axarr[-1].set_xlabel('Distance to Nth massive neighbor (kpc)')\n",
    "plt.tight_layout()\n",
    "plt.show()"
   ]
  },
  {
   "cell_type": "markdown",
   "metadata": {},
   "source": [
    "## Summary Statistics"
   ]
  },
  {
   "cell_type": "code",
   "execution_count": null,
   "metadata": {},
   "outputs": [],
   "source": [
    "# Print summary\n",
    "print(\"=\" * 60)\n",
    "print(\"ENVIRONMENT ANALYSIS SUMMARY\")\n",
    "print(\"=\" * 60)\n",
    "print(f\"Total galaxies analyzed: {len(catalog)}\")\n",
    "print(f\"Massive galaxies (M* > 10^10): {len(massive_galaxies)}\")\n",
    "print(\"\\nMerger probability by environment:\")\n",
    "for idx, label in enumerate(env_labels):\n",
    "    median = np.median(pm_avg[idx])\n",
    "    lower = np.quantile(pm_avg[idx], 0.16)\n",
    "    upper = np.quantile(pm_avg[idx], 0.84)\n",
    "    print(f\"  {label:12s}: {median:.4f} (+{upper-median:.4f}, -{median-lower:.4f})\")\n",
    "print(\"=\" * 60)"
   ]
  }
 ],
 "metadata": {
  "kernelspec": {
   "display_name": "Python 3 (ipykernel)",
   "language": "python",
   "name": "python3"
  },
  "language_info": {
   "codemirror_mode": {
    "name": "ipython",
    "version": 3
   },
   "file_extension": ".py",
   "mimetype": "text/x-python",
   "name": "python",
   "nbconvert_exporter": "python",
   "pygments_lexer": "ipython3",
   "version": "3.10.0"
  }
 },
 "nbformat": 4,
 "nbformat_minor": 4
}
